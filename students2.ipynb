{
 "cells": [
  {
   "cell_type": "markdown",
   "metadata": {},
   "source": [
    "# Sumário"
   ]
  },
  {
   "cell_type": "markdown",
   "metadata": {},
   "source": [
    ">- 1.....................................................Preparação inicial dos dados.\n",
    ">\n",
    ">   - 1.1........................................Importação de bibliotecas.\n",
    ">\n",
    ">   - 1.2........................................Definições e funções.\n",
    ">\n",
    ">   - 1.3........................................Importação dos DataSets.\n",
    ">\n",
    ">   - 1.4........................................Tratamento dos dados (tradução e One Hot Encoding).\n",
    ">    \n",
    ">- 2.....................................................Planejamento dos Modelos.\n",
    ">\n",
    ">   - 2.1........................................O que queremos prever de fato ?\n",
    ">\n",
    ">   - 2.2........................................O que será feito, e como ?\n",
    ">\n",
    ">   - 2.3........................................Expectativa e próximos passos.\n",
    ">\n",
    ">- 3.....................................................Relação da EDA com a escolha das variáveis.\n",
    ">\n",
    ">- 4.....................................................Implementação dos Modelos.\n",
    ">\n",
    ">   - 4.1........................................Regressão Linear.\n",
    ">\n",
    ">   - 4.2........................................Árvore de Decisão.\n",
    ">\n",
    ">   - 4.3........................................KNN (K-Vizinhos mais Próximos).\n",
    ">\n",
    ">   - 4.4........................................Gradient Boosting.\n",
    ">\n",
    ">   - 4.5........................................Light GBM.\n",
    ">\n",
    ">- 5.....................................................Resultados e Métricas."
   ]
  },
  {
   "cell_type": "markdown",
   "metadata": {},
   "source": [
    "### Imagens\n",
    "\n",
    "> Imagem 1...............................................Mapa de Calor - Correlação das notas de Matemática com escola, internet e ingresso em ensino superior.\n",
    ">\n",
    "> Imagem 2...............................................Mapa de Calor - Correlação das notas de Português com escola, internet e ingresso em ensino superior.\n",
    ">\n",
    "> Imagem 3...............................................Tabela - Resultados e métricas dos Modelos treinados."
   ]
  },
  {
   "cell_type": "markdown",
   "metadata": {},
   "source": [
    "# 1 Preparação inicial dos dados"
   ]
  },
  {
   "cell_type": "markdown",
   "metadata": {},
   "source": [
    "### 1.1 - Importação de bibliotecas"
   ]
  },
  {
   "cell_type": "code",
   "execution_count": 2,
   "metadata": {},
   "outputs": [],
   "source": [
    "import pandas as pd\n",
    "from sklearn.model_selection import train_test_split\n",
    "from sklearn.linear_model import LinearRegression\n",
    "from sklearn.metrics import mean_squared_error, r2_score\n",
    "from sklearn.tree import DecisionTreeRegressor\n",
    "import matplotlib.pyplot as plt\n",
    "import seaborn as sns\n",
    "import numpy as np\n",
    "from sklearn.ensemble import GradientBoostingRegressor\n",
    "from sklearn.neighbors import KNeighborsRegressor\n",
    "from sklearn.preprocessing import StandardScaler\n",
    "import lightgbm as lgbm"
   ]
  },
  {
   "cell_type": "markdown",
   "metadata": {},
   "source": [
    "### 1.2 - Definições e funções"
   ]
  },
  {
   "cell_type": "code",
   "execution_count": 3,
   "metadata": {},
   "outputs": [],
   "source": [
    "def pred_decision_tree(df, X, y):\n",
    "\n",
    "    X_train, X_test, y_train, y_test = train_test_split(df[X], df[y], test_size=0.2, random_state=42)\n",
    "\n",
    "    tree = DecisionTreeRegressor(random_state=42)\n",
    "    tree.fit(X_train, y_train)\n",
    "    Y_pred_tree = tree.predict(X_test)\n",
    "    mse_tree = mean_squared_error(y_test, Y_pred_tree)\n",
    "\n",
    "    return mse_tree"
   ]
  },
  {
   "cell_type": "code",
   "execution_count": 4,
   "metadata": {},
   "outputs": [],
   "source": [
    "def showHeatmap(df, subject, colorPallete, index):\n",
    "    plt.figure(figsize=(10,6))\n",
    "    num = df.select_dtypes(include=['float', 'int'])\n",
    "    corr = num.corr()\n",
    "    matrix = np.triu(corr)\n",
    "    sns.heatmap(corr, annot=True, cmap=colorPallete, mask=matrix)\n",
    "    plt.title(\"Mapa de Calor de Correlações - \" + subject, fontsize=15)\n",
    "    plt.xticks(rotation=35)\n",
    "    plt.yticks(rotation=0)\n",
    "    plt.show()\n",
    "    print(\"\\t\\tImagem \" + str(index) + \" - Mapa de Calor - Correlação das notas de \" + subject + \" com escola, internet e ingresso em ensino superior.\")\n",
    "    print(\"\\n\")"
   ]
  },
  {
   "cell_type": "code",
   "execution_count": 5,
   "metadata": {},
   "outputs": [],
   "source": [
    "def pred_linear_regression(df, X, y):\n",
    "\n",
    "    X_train, X_test, y_train, y_test = train_test_split(df[X], df[y], test_size=0.2, random_state=42)\n",
    "\n",
    "    modelo = LinearRegression()\n",
    "    modelo.fit(X_train, y_train)\n",
    "\n",
    "    y_pred = modelo.predict(X_test)\n",
    "\n",
    "    mse = mean_squared_error(y_test, y_pred)\n",
    "    r2 = r2_score(y_test, y_pred)\n",
    "\n",
    "    return mse, r2"
   ]
  },
  {
   "cell_type": "code",
   "execution_count": 6,
   "metadata": {},
   "outputs": [],
   "source": [
    "def pred_gradient_boosting_regression(df, X, y):\n",
    "\n",
    "    X_train, X_test, y_train, y_test = train_test_split(df[X], df[y], test_size=0.2, random_state=42)\n",
    "\n",
    "    gboost = GradientBoostingRegressor(n_estimators=100, random_state=42)\n",
    "    gboost.fit(X_train, y_train)\n",
    "\n",
    "    Y_pred_gboost = gboost.predict(X_test)\n",
    "\n",
    "    mse_gboost = mean_squared_error(y_test, Y_pred_gboost)\n",
    "    return mse_gboost"
   ]
  },
  {
   "cell_type": "code",
   "execution_count": 7,
   "metadata": {},
   "outputs": [],
   "source": [
    "def pred_knn_regression(df, X, y):\n",
    "\n",
    "    X_train, X_test, y_train, y_test = train_test_split(df[X], df[y], test_size=0.2, random_state=42)\n",
    "\n",
    "    scaler = StandardScaler()\n",
    "    X_train_scaled = scaler.fit_transform(X_train)\n",
    "    X_test_scaled = scaler.transform(X_test)\n",
    "\n",
    "    knn = KNeighborsRegressor(n_neighbors=5)\n",
    "    knn.fit(X_train_scaled, y_train)\n",
    "\n",
    "    # Fazer previsões\n",
    "    Y_pred_knn = knn.predict(X_test_scaled)\n",
    "\n",
    "    # Avaliação do modelo\n",
    "    mse_knn = mean_squared_error(y_test, Y_pred_knn)\n",
    "    return mse_knn"
   ]
  },
  {
   "cell_type": "code",
   "execution_count": 8,
   "metadata": {},
   "outputs": [],
   "source": [
    "def pred_light_gbm(df, X, y):\n",
    "\n",
    "    X_train, X_test, y_train, y_test = train_test_split(df[X], df[y], test_size=0.2, random_state=42)\n",
    "\n",
    "    lgb_model = lgbm.LGBMRegressor(n_estimators=100, random_state=42, verbosity=-1)\n",
    "    lgb_model.fit(X_train, y_train)\n",
    "\n",
    "    Y_pred_lgb = lgb_model.predict(X_test)\n",
    "\n",
    "    mse_lgb = mean_squared_error(y_test, Y_pred_lgb)\n",
    "    return mse_lgb"
   ]
  },
  {
   "cell_type": "code",
   "execution_count": 9,
   "metadata": {},
   "outputs": [],
   "source": [
    "df_names = ['Matemática', 'Português']\n",
    "\n",
    "coefs = pd.DataFrame({\n",
    "    'materia': [],\n",
    "    'modelo': [],\n",
    "    'x': [],\n",
    "    'variavel_target': [],\n",
    "    'mse': [],\n",
    "    'r2': [],\n",
    "})"
   ]
  },
  {
   "cell_type": "markdown",
   "metadata": {},
   "source": [
    "### 1.3 - Importação dos DataSets"
   ]
  },
  {
   "cell_type": "code",
   "execution_count": 10,
   "metadata": {},
   "outputs": [],
   "source": [
    "df_mat = pd.read_csv(\"data/student-mat.csv\", sep=';')\n",
    "df_por = pd.read_csv(\"data/student-por.csv\", sep=';')\n",
    "dfs = [df_mat, df_por]"
   ]
  },
  {
   "cell_type": "markdown",
   "metadata": {},
   "source": [
    "### 1.4 - Tratamento dos dados (tradução e One Hot Encoding)"
   ]
  },
  {
   "cell_type": "code",
   "execution_count": 11,
   "metadata": {},
   "outputs": [],
   "source": [
    "for i in (dfs):\n",
    "    i['Pstatus'] = i['Pstatus'].str.replace(\"A\", \"S\").str.replace(\"T\", \"J\")\n",
    "    i['sex'] = i['sex'].str.replace(\"M\", \"Masculino\").str.replace(\"F\", \"Feminino\")\n",
    "    i['address'] = i['address'].str.replace(\"R\", \"Rural\").str.replace(\"U\", \"Urbano\")\n",
    "    i['Mjob'] = i['Mjob'].str.replace(\"at_home\", \"Lar\").str.replace(\"health\", \"Saude\").str.replace(\"other\", \"Outro\").str.replace(\"services\", \"Func. Publico\").str.replace(\"teacher\", \"Professor\")\n",
    "    i['Fjob'] = i['Fjob'].str.replace(\"at_home\", \"Lar\").str.replace(\"health\", \"Saude\").str.replace(\"other\", \"Outro\").str.replace(\"services\", \"Func. Publico\").str.replace(\"teacher\", \"Professor\")\n",
    "    i['reason'] = i['reason'].str.replace(\"home\", \"Local\").str.replace(\"reputation\", \"Reputacao\").str.replace(\"course\", \"Curso\").str.replace(\"other\", \"Outro\")\n",
    "    i['guardian'] = i['guardian'].str.replace(\"mother\", \"Mae\").str.replace(\"father\", \"Pai\").str.replace(\"other\", \"Outro\")\n",
    "\n",
    "    i['schoolsup'] = i['schoolsup'].str.replace(\"yes\", \"Sim\").str.replace(\"no\", \"Nao\")\n",
    "    i['famsup'] = i['famsup'].str.replace(\"yes\", \"Sim\").str.replace(\"no\", \"Nao\")\n",
    "    i['paid'] = i['paid'].str.replace(\"yes\", \"Sim\").str.replace(\"no\", \"Nao\")\n",
    "    i['activities'] = i['activities'].str.replace(\"yes\", \"Sim\").str.replace(\"no\", \"Nao\")\n",
    "    i['nursery'] = i['nursery'].str.replace(\"yes\", \"Sim\").str.replace(\"no\", \"Nao\")\n",
    "    i['higher'] = i['higher'].str.replace(\"yes\", \"Sim\").str.replace(\"no\", \"Nao\")\n",
    "    i['internet'] = i['internet'].str.replace(\"yes\", \"Sim\").str.replace(\"no\", \"Nao\")\n",
    "    i['romantic'] = i['romantic'].str.replace(\"yes\", \"Sim\").str.replace(\"no\", \"Nao\")"
   ]
  },
  {
   "cell_type": "code",
   "execution_count": 12,
   "metadata": {},
   "outputs": [],
   "source": [
    "dfs[0] = pd.get_dummies(df_mat, columns=['school', 'higher', 'internet'])\n",
    "dfs[1] = pd.get_dummies(df_por, columns=['school', 'higher', 'internet'])\n",
    "\n",
    "for i in dfs:\n",
    "    i['school_GP'] = i['school_GP'].astype(int)\n",
    "    i['school_MS'] = i['school_MS'].astype(int)\n",
    "    i['higher_Nao'] = i['higher_Nao'].astype(int)\n",
    "    i['higher_Sim'] = i['higher_Sim'].astype(int)\n",
    "    i['internet_Nao'] = i['internet_Nao'].astype(int)\n",
    "    i['internet_Sim'] = i['internet_Sim'].astype(int)\n",
    "\n",
    "df_mat = dfs[0].copy()\n",
    "df_por = dfs[1].copy()"
   ]
  },
  {
   "cell_type": "markdown",
   "metadata": {},
   "source": [
    "# 2 - Planejamento dos Modelos"
   ]
  },
  {
   "cell_type": "markdown",
   "metadata": {},
   "source": [
    "##### Com os dados analisados e algumas conclusões feitas, o próximo passo é utilizar modelos de Machine Learning com o objetivo de prever as notas dos alunos com base em algumas características.\n",
    "\n",
    "##### Por exemplo, vimos que tempo de estudo e escola estão correlacionadas com as notas, com base nisso, o quão bem podemos prever a nota que um aluno vai ter, se soubermos apenas o quanto tempo ele estuda e qual escola ele estuda ? Esta é o principal questionamento que vamos responder nesta etapa."
   ]
  },
  {
   "cell_type": "markdown",
   "metadata": {},
   "source": [
    "### 2.1 - O que queremos prever de fato ?\n",
    "\n",
    "##### Queremos prever a variável G1 e G2 (nota do 1º e 2º Trimestre, respectivamente) com base em algumas variáveis, e também confirmar o quão bem podemos prever a variável G3 (nota final) com base nas outras 2 notas.\n",
    "\n",
    "#### Variáveis a serem usadas nos modelos:\n",
    "- *failures* - Quantas vezes o aluno repetiu de ano.\n",
    "- *studytime* - Quantas horas o aluno passa estudando.\n",
    "- *school* - Qual escola o aluno estuda.\n",
    "- *Fedu* / *Medu* - Nível de educação da mãe e do pai.\n",
    "- *higher* - Se o aluno deseja ingressar num Ensino Superior.\n",
    "- *internet* - Se o aluno tem acesso à internet.\n",
    "\n",
    "#### Variáveis que não serão usadas nos modelos:\n",
    "- *traveltime* - Tempo que o aluno gasta se deslocando até a escola.\n",
    "- *famrel* - O quão boa é a relação familiar do aluno.\n",
    "- *goout* - O quão frequente ele sai com os amigos.\n",
    "- *health* - Saúde do aluno.\n",
    "- *absences* - Quantas vezes o aluno faltou.\n",
    "- *schoolsup* - Se o aluno teve suporte escolar.\n",
    "- *address* - Tipo de endereço que o aluno mora.\n",
    "- *famsize* - Tamanho da família."
   ]
  },
  {
   "cell_type": "markdown",
   "metadata": {},
   "source": [
    "### 2.2 - O que será feito, e como ?\n",
    "\n",
    "##### Vamos utilizar Modelos Supervisionados para previsão, isto é, um modelo onde já temos a resposta (no caso as notas), dividiremos os dados em 2 blocos: Treino e Teste, um bloco será usado para treinar o algoritmo, e o outro bloco será usado para testarmos o quão precisa foram as previsões do modelo.\n",
    "\n",
    "#### Modelos a serem utilizados:\n",
    "- *Regressão Linear*\n",
    "- *Árvore de Decisão*\n",
    "- *K - Vizinhos mais Próximos*\n",
    "- *Gradient Boosting*\n",
    "- *Light GBM*"
   ]
  },
  {
   "cell_type": "markdown",
   "metadata": {},
   "source": [
    "### 2.3 - Expectativa e próximos passos\n",
    "\n",
    "##### Fazendo tudo isso, esperamos que os modelos identifiquem fatores-chave e apresentem uma precisão razoável na previsão das notas finais. Iremos captar as métricas e medições de acurácia dos modelos, para podermos avaliar qual deles está performando melhor e sendo mais pertinente para a nossa análise."
   ]
  },
  {
   "cell_type": "markdown",
   "metadata": {},
   "source": [
    "# 3 - Relação da EDA com a escolha das variáveis"
   ]
  },
  {
   "cell_type": "markdown",
   "metadata": {},
   "source": [
    "##### Como foi visto na Análise Exploratória anteriormente, podemos fazer algumas seleções de quais features iremos incluir ou remover.\n",
    "\n",
    "##### No item 2.1 acima, elencamos as variáveis à serem usadas: *failures* / *studytime* / *school* / *Fedu* / *Medu*\n",
    "\n",
    "##### Vimos que essas variáveis tem uma correlação positiva com as notas, então serão incluídas nos modelos."
   ]
  },
  {
   "cell_type": "markdown",
   "metadata": {},
   "source": [
    "### Através das matrizes abaixo, alguns pontos muito importantes devem ser apontados:\n",
    "\n",
    "- Alunos com o intuito de ingressar em um ensino superior geralmente tem uma nota um pouco maior.\n",
    "- Alunos da escola Gabriel Pereira geralmente tem uma nota maior do que os alunos da escola Mousinho da Silveira.\n",
    "- Coincidentemente, a escola Gabriel Pereira tem uma quantidade de alunos com acesso à internet maior do que a escola Mousinho da Silveira.\n",
    "\n",
    "### Por causa destas observações, as variáveis *higher* / *internet* também serão inclusas nos modelos."
   ]
  },
  {
   "cell_type": "code",
   "execution_count": 13,
   "metadata": {},
   "outputs": [
    {
     "data": {
      "image/png": "[encoded data removed]",
      "text/plain": [
       "<Figure size 1000x600 with 2 Axes>"
      ]
     },
     "metadata": {},
     "output_type": "display_data"
    },
    {
     "name": "stdout",
     "output_type": "stream",
     "text": [
      "\t\tImagem 1 - Mapa de Calor - Correlação das notas de Matemática com escola, internet e ingresso em ensino superior.\n",
      "\n",
      "\n"
     ]
    },
    {
     "data": {
      "image/png": "[encoded data removed]",
      "text/plain": [
       "<Figure size 1000x600 with 2 Axes>"
      ]
     },
     "metadata": {},
     "output_type": "display_data"
    },
    {
     "name": "stdout",
     "output_type": "stream",
     "text": [
      "\t\tImagem 2 - Mapa de Calor - Correlação das notas de Português com escola, internet e ingresso em ensino superior.\n",
      "\n",
      "\n"
     ]
    }
   ],
   "source": [
    "df_mat_corr = df_mat.drop(columns=['age', 'address', 'famsize', 'Medu', 'Fedu', 'traveltime', 'studytime', 'failures', 'famrel', 'freetime', 'goout', 'Dalc', 'Walc', 'health', 'absences'])\n",
    "df_por_corr = df_por.drop(columns=['age', 'address', 'famsize', 'Medu', 'Fedu', 'traveltime', 'studytime', 'failures', 'famrel', 'freetime', 'goout', 'Dalc', 'Walc', 'health', 'absences'])\n",
    "corr_arr = [df_mat_corr, df_por_corr]\n",
    "index = [1, 2]\n",
    "\n",
    "for c, n, i in zip(corr_arr, df_names, index):\n",
    "    showHeatmap(c, n, 'coolwarm', i)\n"
   ]
  },
  {
   "cell_type": "markdown",
   "metadata": {},
   "source": [
    "# 4 - Implementação dos Modelos"
   ]
  },
  {
   "cell_type": "markdown",
   "metadata": {},
   "source": [
    "##### Os modelos a serem treinados são os que já foram mencionados no item 2.2\n",
    "\n",
    "##### Abaixo contem o código que os executa\n",
    "\n",
    "##### Importante observar que em cada execução, é gerada um resultado e métricas de cada um, que são adicionados em uma tabela.\n",
    "\n",
    "##### Essa tabela será o principal objeto de estudo na próxima etapa desta análise, onde iremos dar uma olhada mais afundo nessas métricas, o que elas significam, saber qual algoritmo conseguiu performar melhor e fazer as melhores previsões, assim como o oposto."
   ]
  },
  {
   "cell_type": "markdown",
   "metadata": {},
   "source": [
    "### 4.1 - Regressão Linear"
   ]
  },
  {
   "cell_type": "code",
   "execution_count": 14,
   "metadata": {},
   "outputs": [],
   "source": [
    "for name, i in zip(df_names, dfs):\n",
    "    X = ['failures', 'studytime', 'Medu', 'Fedu', 'school_GP', 'school_MS', 'higher_Nao', 'higher_Sim', 'internet_Nao', 'internet_Sim']\n",
    "    y = 'G1'\n",
    "    mse_lr, r2_lr = pred_linear_regression(i, X, y)\n",
    "    coefs.loc[len(coefs)] = [name, 'Regressao Linear', str(X), str(y), f'{mse_lr:.2f}', f'{r2_lr:.2f}']"
   ]
  },
  {
   "cell_type": "code",
   "execution_count": 15,
   "metadata": {},
   "outputs": [],
   "source": [
    "for name, i in zip(df_names, dfs):\n",
    "    X = ['failures', 'studytime', 'Medu', 'Fedu', 'school_GP', 'school_MS', 'higher_Nao', 'higher_Sim', 'internet_Nao', 'internet_Sim']\n",
    "    y = 'G2'\n",
    "    mse_lr, r2_lr = pred_linear_regression(i, X, y)\n",
    "    coefs.loc[len(coefs)] = [name, 'Regressao Linear', str(X), str(y), f'{mse_lr:.2f}', f'{r2_lr:.2f}']"
   ]
  },
  {
   "cell_type": "code",
   "execution_count": 16,
   "metadata": {},
   "outputs": [],
   "source": [
    "for name, i in zip(df_names, dfs):\n",
    "    X = ['failures', 'studytime', 'Medu', 'Fedu', 'school_GP', 'school_MS', 'higher_Nao', 'higher_Sim', 'internet_Nao', 'internet_Sim']\n",
    "    y = ['G1', 'G2']\n",
    "    mse_lr, r2_lr = pred_linear_regression(i, X, y)\n",
    "    coefs.loc[len(coefs)] = [name, 'Regressao Linear', str(X), str(y), f'{mse_lr:.2f}', f'{r2_lr:.2f}']"
   ]
  },
  {
   "cell_type": "code",
   "execution_count": 17,
   "metadata": {},
   "outputs": [],
   "source": [
    "for name, i in zip(df_names, dfs):\n",
    "    X = ['G1', 'G2']\n",
    "    y = 'G3'\n",
    "    mse_lr, r2_lr = pred_linear_regression(i, X, y)\n",
    "    coefs.loc[len(coefs)] = [name, 'Regressao Linear', str(X), str(y), f'{mse_lr:.2f}', f'{r2_lr:.2f}']"
   ]
  },
  {
   "cell_type": "markdown",
   "metadata": {},
   "source": [
    "### 4.2 - Árvore de Decisão"
   ]
  },
  {
   "cell_type": "code",
   "execution_count": 18,
   "metadata": {},
   "outputs": [],
   "source": [
    "for name, i in zip(df_names, dfs):\n",
    "    X = ['failures', 'studytime', 'Medu', 'Fedu', 'school_GP', 'school_MS', 'higher_Nao', 'higher_Sim', 'internet_Nao', 'internet_Sim']\n",
    "    y = 'G1'\n",
    "    mse_tree = pred_decision_tree(i, X, y)\n",
    "    coefs.loc[len(coefs)] = [name, 'Arvore de  Decisao', str(X), str(y), f'{mse_tree:.2f}', '-']"
   ]
  },
  {
   "cell_type": "code",
   "execution_count": 19,
   "metadata": {},
   "outputs": [],
   "source": [
    "for name, i in zip(df_names, dfs):\n",
    "    X = ['failures', 'studytime', 'Medu', 'Fedu', 'school_GP', 'school_MS', 'higher_Nao', 'higher_Sim', 'internet_Nao', 'internet_Sim']\n",
    "    y = 'G2'\n",
    "    mse_tree = pred_decision_tree(i, X, y)\n",
    "    coefs.loc[len(coefs)] = [name, 'Arvore de  Decisao', str(X), str(y), f'{mse_tree:.2f}', '-']"
   ]
  },
  {
   "cell_type": "code",
   "execution_count": 20,
   "metadata": {},
   "outputs": [],
   "source": [
    "for name, i in zip(df_names, dfs):\n",
    "    X = ['failures', 'studytime', 'Medu', 'Fedu', 'school_GP', 'school_MS', 'higher_Nao', 'higher_Sim', 'internet_Nao', 'internet_Sim']\n",
    "    y = ['G1', 'G2']\n",
    "    mse_tree = pred_decision_tree(i, X, y)\n",
    "    coefs.loc[len(coefs)] = [name, 'Arvore de  Decisao', str(X), str(y), f'{mse_tree:.2f}', '-']"
   ]
  },
  {
   "cell_type": "code",
   "execution_count": 21,
   "metadata": {},
   "outputs": [],
   "source": [
    "for name, i in zip(df_names, dfs):\n",
    "    X = ['G1', 'G2']\n",
    "    y = 'G3'\n",
    "    mse_tree = pred_decision_tree(i, X, y)\n",
    "    coefs.loc[len(coefs)] = [name, 'Arvore de  Decisao', str(X), str(y), f'{mse_tree:.2f}', '-']"
   ]
  },
  {
   "cell_type": "markdown",
   "metadata": {},
   "source": [
    "### 4.3 - KNN (K-Vizinhos mais Próximos)"
   ]
  },
  {
   "cell_type": "code",
   "execution_count": 22,
   "metadata": {},
   "outputs": [],
   "source": [
    "for name, i in zip(df_names, dfs):\n",
    "    X = ['failures', 'studytime', 'Medu', 'Fedu', 'school_GP', 'school_MS', 'higher_Nao', 'higher_Sim', 'internet_Nao', 'internet_Sim']\n",
    "    y = 'G1'\n",
    "    mse_knn = pred_knn_regression(i, X, y)\n",
    "    coefs.loc[len(coefs)] = [name, 'KNN', str(X), str(y), f'{mse_knn:.2f}', '-']"
   ]
  },
  {
   "cell_type": "code",
   "execution_count": 23,
   "metadata": {},
   "outputs": [],
   "source": [
    "for name, i in zip(df_names, dfs):\n",
    "    X = ['failures', 'studytime', 'Medu', 'Fedu', 'school_GP', 'school_MS', 'higher_Nao', 'higher_Sim', 'internet_Nao', 'internet_Sim']\n",
    "    y = 'G1'\n",
    "    mse_knn = pred_knn_regression(i, X, y)\n",
    "    coefs.loc[len(coefs)] = [name, 'KNN', str(X), str(y), f'{mse_knn:.2f}', '-']"
   ]
  },
  {
   "cell_type": "code",
   "execution_count": 24,
   "metadata": {},
   "outputs": [],
   "source": [
    "for name, i in zip(df_names, dfs):\n",
    "    X = ['failures', 'studytime', 'Medu', 'Fedu', 'school_GP', 'school_MS', 'higher_Nao', 'higher_Sim', 'internet_Nao', 'internet_Sim']\n",
    "    y = ['G1', 'G2']\n",
    "    mse_knn = pred_knn_regression(i, X, y)\n",
    "    coefs.loc[len(coefs)] = [name, 'KNN', str(X), str(y), f'{mse_knn:.2f}', '-']"
   ]
  },
  {
   "cell_type": "code",
   "execution_count": 25,
   "metadata": {},
   "outputs": [],
   "source": [
    "for name, i in zip(df_names, dfs):\n",
    "    X = ['G1', 'G2']\n",
    "    y = 'G3'\n",
    "    mse_knn = pred_knn_regression(i, X, y)\n",
    "    coefs.loc[len(coefs)] = [name, 'KNN', str(X), str(y), f'{mse_knn:.2f}', '-']"
   ]
  },
  {
   "cell_type": "markdown",
   "metadata": {},
   "source": [
    "### 4.4 - Gradient Boosting"
   ]
  },
  {
   "cell_type": "code",
   "execution_count": 26,
   "metadata": {},
   "outputs": [],
   "source": [
    "for name, i in zip(df_names, dfs):\n",
    "    X = ['failures', 'studytime', 'Medu', 'Fedu', 'school_GP', 'school_MS', 'higher_Nao', 'higher_Sim', 'internet_Nao', 'internet_Sim']\n",
    "    y = 'G1'\n",
    "    mse_gb = pred_gradient_boosting_regression(i, X, y)\n",
    "    coefs.loc[len(coefs)] = [name, 'Gradient Boosting', str(X), str(y), f'{mse_gb:.2f}', '-']"
   ]
  },
  {
   "cell_type": "code",
   "execution_count": 27,
   "metadata": {},
   "outputs": [],
   "source": [
    "for name, i in zip(df_names, dfs):\n",
    "    X = ['failures', 'studytime', 'Medu', 'Fedu', 'school_GP', 'school_MS', 'higher_Nao', 'higher_Sim', 'internet_Nao', 'internet_Sim']\n",
    "    y = 'G2'\n",
    "    mse_gb = pred_gradient_boosting_regression(i, X, y)\n",
    "    coefs.loc[len(coefs)] = [name, 'Gradient Boosting', str(X), str(y), f'{mse_gb:.2f}', '-']"
   ]
  },
  {
   "cell_type": "code",
   "execution_count": 28,
   "metadata": {},
   "outputs": [],
   "source": [
    "for name, i in zip(df_names, dfs):\n",
    "    X = ['G1', 'G2']\n",
    "    y = 'G3'\n",
    "    mse_gb = pred_decision_tree(i, X, y)\n",
    "    coefs.loc[len(coefs)] = [name, 'Gradient Boosting', str(X), str(y), f'{mse_gb:.2f}', '-']"
   ]
  },
  {
   "cell_type": "markdown",
   "metadata": {},
   "source": [
    "### 4.5 - Light GBM"
   ]
  },
  {
   "cell_type": "code",
   "execution_count": 29,
   "metadata": {},
   "outputs": [],
   "source": [
    "for name, i in zip(df_names, dfs):\n",
    "    X = ['failures', 'studytime', 'Medu', 'Fedu', 'school_GP', 'school_MS', 'higher_Nao', 'higher_Sim', 'internet_Nao', 'internet_Sim']\n",
    "    y = 'G1'\n",
    "    mse_lgbm = pred_light_gbm(i, X, y)\n",
    "    coefs.loc[len(coefs)] = [name, 'Light GBM', str(X), str(y), f'{mse_lgbm:.2f}', '-']"
   ]
  },
  {
   "cell_type": "code",
   "execution_count": 30,
   "metadata": {},
   "outputs": [],
   "source": [
    "for name, i in zip(df_names, dfs):\n",
    "    X = ['failures', 'studytime', 'Medu', 'Fedu', 'school_GP', 'school_MS', 'higher_Nao', 'higher_Sim', 'internet_Nao', 'internet_Sim']\n",
    "    y = 'G2'\n",
    "    mse_lgbm = pred_light_gbm(i, X, y)\n",
    "    coefs.loc[len(coefs)] = [name, 'Light GBM', str(X), str(y), f'{mse_lgbm:.2f}', '-']"
   ]
  },
  {
   "cell_type": "code",
   "execution_count": 31,
   "metadata": {},
   "outputs": [],
   "source": [
    "for name, i in zip(df_names, dfs):\n",
    "    X = ['G1', 'G2']\n",
    "    y = 'G3'\n",
    "    mse_lgbm = pred_light_gbm(i, X, y)\n",
    "    coefs.loc[len(coefs)] = [name, 'Light GBM', str(X), str(y), f'{mse_lgbm:.2f}', '-']"
   ]
  },
  {
   "cell_type": "markdown",
   "metadata": {},
   "source": [
    "# 5 - Resultados e Métricas"
   ]
  },
  {
   "cell_type": "code",
   "execution_count": 32,
   "metadata": {},
   "outputs": [
    {
     "data": {
      "text/html": [
       "<div>\n",
       "<style scoped>\n",
       "    .dataframe tbody tr th:only-of-type {\n",
       "        vertical-align: middle;\n",
       "    }\n",
       "\n",
       "    .dataframe tbody tr th {\n",
       "        vertical-align: top;\n",
       "    }\n",
       "\n",
       "    .dataframe thead th {\n",
       "        text-align: right;\n",
       "    }\n",
       "</style>\n",
       "<table border=\"1\" class=\"dataframe\">\n",
       "  <thead>\n",
       "    <tr style=\"text-align: right;\">\n",
       "      <th></th>\n",
       "      <th>materia</th>\n",
       "      <th>modelo</th>\n",
       "      <th>x</th>\n",
       "      <th>variavel_target</th>\n",
       "      <th>mse</th>\n",
       "      <th>r2</th>\n",
       "    </tr>\n",
       "  </thead>\n",
       "  <tbody>\n",
       "    <tr>\n",
       "      <th>0</th>\n",
       "      <td>Matemática</td>\n",
       "      <td>Regressao Linear</td>\n",
       "      <td>['failures', 'studytime', 'Medu', 'Fedu', 'sch...</td>\n",
       "      <td>G1</td>\n",
       "      <td>12.64</td>\n",
       "      <td>0.08</td>\n",
       "    </tr>\n",
       "    <tr>\n",
       "      <th>1</th>\n",
       "      <td>Português</td>\n",
       "      <td>Regressao Linear</td>\n",
       "      <td>['failures', 'studytime', 'Medu', 'Fedu', 'sch...</td>\n",
       "      <td>G1</td>\n",
       "      <td>7.14</td>\n",
       "      <td>0.17</td>\n",
       "    </tr>\n",
       "    <tr>\n",
       "      <th>2</th>\n",
       "      <td>Matemática</td>\n",
       "      <td>Regressao Linear</td>\n",
       "      <td>['failures', 'studytime', 'Medu', 'Fedu', 'sch...</td>\n",
       "      <td>G2</td>\n",
       "      <td>12.26</td>\n",
       "      <td>0.14</td>\n",
       "    </tr>\n",
       "    <tr>\n",
       "      <th>3</th>\n",
       "      <td>Português</td>\n",
       "      <td>Regressao Linear</td>\n",
       "      <td>['failures', 'studytime', 'Medu', 'Fedu', 'sch...</td>\n",
       "      <td>G2</td>\n",
       "      <td>7.43</td>\n",
       "      <td>0.17</td>\n",
       "    </tr>\n",
       "    <tr>\n",
       "      <th>4</th>\n",
       "      <td>Matemática</td>\n",
       "      <td>Regressao Linear</td>\n",
       "      <td>['failures', 'studytime', 'Medu', 'Fedu', 'sch...</td>\n",
       "      <td>['G1', 'G2']</td>\n",
       "      <td>12.45</td>\n",
       "      <td>0.11</td>\n",
       "    </tr>\n",
       "    <tr>\n",
       "      <th>5</th>\n",
       "      <td>Português</td>\n",
       "      <td>Regressao Linear</td>\n",
       "      <td>['failures', 'studytime', 'Medu', 'Fedu', 'sch...</td>\n",
       "      <td>['G1', 'G2']</td>\n",
       "      <td>7.28</td>\n",
       "      <td>0.17</td>\n",
       "    </tr>\n",
       "    <tr>\n",
       "      <th>6</th>\n",
       "      <td>Matemática</td>\n",
       "      <td>Regressao Linear</td>\n",
       "      <td>['G1', 'G2']</td>\n",
       "      <td>G3</td>\n",
       "      <td>4.21</td>\n",
       "      <td>0.79</td>\n",
       "    </tr>\n",
       "    <tr>\n",
       "      <th>7</th>\n",
       "      <td>Português</td>\n",
       "      <td>Regressao Linear</td>\n",
       "      <td>['G1', 'G2']</td>\n",
       "      <td>G3</td>\n",
       "      <td>1.37</td>\n",
       "      <td>0.86</td>\n",
       "    </tr>\n",
       "    <tr>\n",
       "      <th>8</th>\n",
       "      <td>Matemática</td>\n",
       "      <td>Arvore de  Decisao</td>\n",
       "      <td>['failures', 'studytime', 'Medu', 'Fedu', 'sch...</td>\n",
       "      <td>G1</td>\n",
       "      <td>17.56</td>\n",
       "      <td>-</td>\n",
       "    </tr>\n",
       "    <tr>\n",
       "      <th>9</th>\n",
       "      <td>Português</td>\n",
       "      <td>Arvore de  Decisao</td>\n",
       "      <td>['failures', 'studytime', 'Medu', 'Fedu', 'sch...</td>\n",
       "      <td>G1</td>\n",
       "      <td>8.85</td>\n",
       "      <td>-</td>\n",
       "    </tr>\n",
       "    <tr>\n",
       "      <th>10</th>\n",
       "      <td>Matemática</td>\n",
       "      <td>Arvore de  Decisao</td>\n",
       "      <td>['failures', 'studytime', 'Medu', 'Fedu', 'sch...</td>\n",
       "      <td>G2</td>\n",
       "      <td>22.97</td>\n",
       "      <td>-</td>\n",
       "    </tr>\n",
       "    <tr>\n",
       "      <th>11</th>\n",
       "      <td>Português</td>\n",
       "      <td>Arvore de  Decisao</td>\n",
       "      <td>['failures', 'studytime', 'Medu', 'Fedu', 'sch...</td>\n",
       "      <td>G2</td>\n",
       "      <td>10.27</td>\n",
       "      <td>-</td>\n",
       "    </tr>\n",
       "    <tr>\n",
       "      <th>12</th>\n",
       "      <td>Matemática</td>\n",
       "      <td>Arvore de  Decisao</td>\n",
       "      <td>['failures', 'studytime', 'Medu', 'Fedu', 'sch...</td>\n",
       "      <td>['G1', 'G2']</td>\n",
       "      <td>19.47</td>\n",
       "      <td>-</td>\n",
       "    </tr>\n",
       "    <tr>\n",
       "      <th>13</th>\n",
       "      <td>Português</td>\n",
       "      <td>Arvore de  Decisao</td>\n",
       "      <td>['failures', 'studytime', 'Medu', 'Fedu', 'sch...</td>\n",
       "      <td>['G1', 'G2']</td>\n",
       "      <td>9.00</td>\n",
       "      <td>-</td>\n",
       "    </tr>\n",
       "    <tr>\n",
       "      <th>14</th>\n",
       "      <td>Matemática</td>\n",
       "      <td>Arvore de  Decisao</td>\n",
       "      <td>['G1', 'G2']</td>\n",
       "      <td>G3</td>\n",
       "      <td>4.76</td>\n",
       "      <td>-</td>\n",
       "    </tr>\n",
       "    <tr>\n",
       "      <th>15</th>\n",
       "      <td>Português</td>\n",
       "      <td>Arvore de  Decisao</td>\n",
       "      <td>['G1', 'G2']</td>\n",
       "      <td>G3</td>\n",
       "      <td>2.10</td>\n",
       "      <td>-</td>\n",
       "    </tr>\n",
       "    <tr>\n",
       "      <th>16</th>\n",
       "      <td>Matemática</td>\n",
       "      <td>KNN</td>\n",
       "      <td>['failures', 'studytime', 'Medu', 'Fedu', 'sch...</td>\n",
       "      <td>G1</td>\n",
       "      <td>13.92</td>\n",
       "      <td>-</td>\n",
       "    </tr>\n",
       "    <tr>\n",
       "      <th>17</th>\n",
       "      <td>Português</td>\n",
       "      <td>KNN</td>\n",
       "      <td>['failures', 'studytime', 'Medu', 'Fedu', 'sch...</td>\n",
       "      <td>G1</td>\n",
       "      <td>7.71</td>\n",
       "      <td>-</td>\n",
       "    </tr>\n",
       "    <tr>\n",
       "      <th>18</th>\n",
       "      <td>Matemática</td>\n",
       "      <td>KNN</td>\n",
       "      <td>['failures', 'studytime', 'Medu', 'Fedu', 'sch...</td>\n",
       "      <td>G1</td>\n",
       "      <td>13.92</td>\n",
       "      <td>-</td>\n",
       "    </tr>\n",
       "    <tr>\n",
       "      <th>19</th>\n",
       "      <td>Português</td>\n",
       "      <td>KNN</td>\n",
       "      <td>['failures', 'studytime', 'Medu', 'Fedu', 'sch...</td>\n",
       "      <td>G1</td>\n",
       "      <td>7.71</td>\n",
       "      <td>-</td>\n",
       "    </tr>\n",
       "    <tr>\n",
       "      <th>20</th>\n",
       "      <td>Matemática</td>\n",
       "      <td>KNN</td>\n",
       "      <td>['failures', 'studytime', 'Medu', 'Fedu', 'sch...</td>\n",
       "      <td>['G1', 'G2']</td>\n",
       "      <td>15.15</td>\n",
       "      <td>-</td>\n",
       "    </tr>\n",
       "    <tr>\n",
       "      <th>21</th>\n",
       "      <td>Português</td>\n",
       "      <td>KNN</td>\n",
       "      <td>['failures', 'studytime', 'Medu', 'Fedu', 'sch...</td>\n",
       "      <td>['G1', 'G2']</td>\n",
       "      <td>7.60</td>\n",
       "      <td>-</td>\n",
       "    </tr>\n",
       "    <tr>\n",
       "      <th>22</th>\n",
       "      <td>Matemática</td>\n",
       "      <td>KNN</td>\n",
       "      <td>['G1', 'G2']</td>\n",
       "      <td>G3</td>\n",
       "      <td>5.04</td>\n",
       "      <td>-</td>\n",
       "    </tr>\n",
       "    <tr>\n",
       "      <th>23</th>\n",
       "      <td>Português</td>\n",
       "      <td>KNN</td>\n",
       "      <td>['G1', 'G2']</td>\n",
       "      <td>G3</td>\n",
       "      <td>1.79</td>\n",
       "      <td>-</td>\n",
       "    </tr>\n",
       "    <tr>\n",
       "      <th>24</th>\n",
       "      <td>Matemática</td>\n",
       "      <td>Gradient Boosting</td>\n",
       "      <td>['failures', 'studytime', 'Medu', 'Fedu', 'sch...</td>\n",
       "      <td>G1</td>\n",
       "      <td>13.80</td>\n",
       "      <td>-</td>\n",
       "    </tr>\n",
       "    <tr>\n",
       "      <th>25</th>\n",
       "      <td>Português</td>\n",
       "      <td>Gradient Boosting</td>\n",
       "      <td>['failures', 'studytime', 'Medu', 'Fedu', 'sch...</td>\n",
       "      <td>G1</td>\n",
       "      <td>7.31</td>\n",
       "      <td>-</td>\n",
       "    </tr>\n",
       "    <tr>\n",
       "      <th>26</th>\n",
       "      <td>Matemática</td>\n",
       "      <td>Gradient Boosting</td>\n",
       "      <td>['failures', 'studytime', 'Medu', 'Fedu', 'sch...</td>\n",
       "      <td>G2</td>\n",
       "      <td>14.34</td>\n",
       "      <td>-</td>\n",
       "    </tr>\n",
       "    <tr>\n",
       "      <th>27</th>\n",
       "      <td>Português</td>\n",
       "      <td>Gradient Boosting</td>\n",
       "      <td>['failures', 'studytime', 'Medu', 'Fedu', 'sch...</td>\n",
       "      <td>G2</td>\n",
       "      <td>7.59</td>\n",
       "      <td>-</td>\n",
       "    </tr>\n",
       "    <tr>\n",
       "      <th>28</th>\n",
       "      <td>Matemática</td>\n",
       "      <td>Gradient Boosting</td>\n",
       "      <td>['G1', 'G2']</td>\n",
       "      <td>G3</td>\n",
       "      <td>4.76</td>\n",
       "      <td>-</td>\n",
       "    </tr>\n",
       "    <tr>\n",
       "      <th>29</th>\n",
       "      <td>Português</td>\n",
       "      <td>Gradient Boosting</td>\n",
       "      <td>['G1', 'G2']</td>\n",
       "      <td>G3</td>\n",
       "      <td>2.10</td>\n",
       "      <td>-</td>\n",
       "    </tr>\n",
       "    <tr>\n",
       "      <th>30</th>\n",
       "      <td>Matemática</td>\n",
       "      <td>Light GBM</td>\n",
       "      <td>['failures', 'studytime', 'Medu', 'Fedu', 'sch...</td>\n",
       "      <td>G1</td>\n",
       "      <td>12.12</td>\n",
       "      <td>-</td>\n",
       "    </tr>\n",
       "    <tr>\n",
       "      <th>31</th>\n",
       "      <td>Português</td>\n",
       "      <td>Light GBM</td>\n",
       "      <td>['failures', 'studytime', 'Medu', 'Fedu', 'sch...</td>\n",
       "      <td>G1</td>\n",
       "      <td>7.32</td>\n",
       "      <td>-</td>\n",
       "    </tr>\n",
       "    <tr>\n",
       "      <th>32</th>\n",
       "      <td>Matemática</td>\n",
       "      <td>Light GBM</td>\n",
       "      <td>['failures', 'studytime', 'Medu', 'Fedu', 'sch...</td>\n",
       "      <td>G2</td>\n",
       "      <td>13.25</td>\n",
       "      <td>-</td>\n",
       "    </tr>\n",
       "    <tr>\n",
       "      <th>33</th>\n",
       "      <td>Português</td>\n",
       "      <td>Light GBM</td>\n",
       "      <td>['failures', 'studytime', 'Medu', 'Fedu', 'sch...</td>\n",
       "      <td>G2</td>\n",
       "      <td>7.55</td>\n",
       "      <td>-</td>\n",
       "    </tr>\n",
       "    <tr>\n",
       "      <th>34</th>\n",
       "      <td>Matemática</td>\n",
       "      <td>Light GBM</td>\n",
       "      <td>['G1', 'G2']</td>\n",
       "      <td>G3</td>\n",
       "      <td>5.39</td>\n",
       "      <td>-</td>\n",
       "    </tr>\n",
       "    <tr>\n",
       "      <th>35</th>\n",
       "      <td>Português</td>\n",
       "      <td>Light GBM</td>\n",
       "      <td>['G1', 'G2']</td>\n",
       "      <td>G3</td>\n",
       "      <td>1.90</td>\n",
       "      <td>-</td>\n",
       "    </tr>\n",
       "  </tbody>\n",
       "</table>\n",
       "</div>"
      ],
      "text/plain": [
       "       materia              modelo  \\\n",
       "0   Matemática    Regressao Linear   \n",
       "1    Português    Regressao Linear   \n",
       "2   Matemática    Regressao Linear   \n",
       "3    Português    Regressao Linear   \n",
       "4   Matemática    Regressao Linear   \n",
       "5    Português    Regressao Linear   \n",
       "6   Matemática    Regressao Linear   \n",
       "7    Português    Regressao Linear   \n",
       "8   Matemática  Arvore de  Decisao   \n",
       "9    Português  Arvore de  Decisao   \n",
       "10  Matemática  Arvore de  Decisao   \n",
       "11   Português  Arvore de  Decisao   \n",
       "12  Matemática  Arvore de  Decisao   \n",
       "13   Português  Arvore de  Decisao   \n",
       "14  Matemática  Arvore de  Decisao   \n",
       "15   Português  Arvore de  Decisao   \n",
       "16  Matemática                 KNN   \n",
       "17   Português                 KNN   \n",
       "18  Matemática                 KNN   \n",
       "19   Português                 KNN   \n",
       "20  Matemática                 KNN   \n",
       "21   Português                 KNN   \n",
       "22  Matemática                 KNN   \n",
       "23   Português                 KNN   \n",
       "24  Matemática   Gradient Boosting   \n",
       "25   Português   Gradient Boosting   \n",
       "26  Matemática   Gradient Boosting   \n",
       "27   Português   Gradient Boosting   \n",
       "28  Matemática   Gradient Boosting   \n",
       "29   Português   Gradient Boosting   \n",
       "30  Matemática           Light GBM   \n",
       "31   Português           Light GBM   \n",
       "32  Matemática           Light GBM   \n",
       "33   Português           Light GBM   \n",
       "34  Matemática           Light GBM   \n",
       "35   Português           Light GBM   \n",
       "\n",
       "                                                    x variavel_target    mse  \\\n",
       "0   ['failures', 'studytime', 'Medu', 'Fedu', 'sch...              G1  12.64   \n",
       "1   ['failures', 'studytime', 'Medu', 'Fedu', 'sch...              G1   7.14   \n",
       "2   ['failures', 'studytime', 'Medu', 'Fedu', 'sch...              G2  12.26   \n",
       "3   ['failures', 'studytime', 'Medu', 'Fedu', 'sch...              G2   7.43   \n",
       "4   ['failures', 'studytime', 'Medu', 'Fedu', 'sch...    ['G1', 'G2']  12.45   \n",
       "5   ['failures', 'studytime', 'Medu', 'Fedu', 'sch...    ['G1', 'G2']   7.28   \n",
       "6                                        ['G1', 'G2']              G3   4.21   \n",
       "7                                        ['G1', 'G2']              G3   1.37   \n",
       "8   ['failures', 'studytime', 'Medu', 'Fedu', 'sch...              G1  17.56   \n",
       "9   ['failures', 'studytime', 'Medu', 'Fedu', 'sch...              G1   8.85   \n",
       "10  ['failures', 'studytime', 'Medu', 'Fedu', 'sch...              G2  22.97   \n",
       "11  ['failures', 'studytime', 'Medu', 'Fedu', 'sch...              G2  10.27   \n",
       "12  ['failures', 'studytime', 'Medu', 'Fedu', 'sch...    ['G1', 'G2']  19.47   \n",
       "13  ['failures', 'studytime', 'Medu', 'Fedu', 'sch...    ['G1', 'G2']   9.00   \n",
       "14                                       ['G1', 'G2']              G3   4.76   \n",
       "15                                       ['G1', 'G2']              G3   2.10   \n",
       "16  ['failures', 'studytime', 'Medu', 'Fedu', 'sch...              G1  13.92   \n",
       "17  ['failures', 'studytime', 'Medu', 'Fedu', 'sch...              G1   7.71   \n",
       "18  ['failures', 'studytime', 'Medu', 'Fedu', 'sch...              G1  13.92   \n",
       "19  ['failures', 'studytime', 'Medu', 'Fedu', 'sch...              G1   7.71   \n",
       "20  ['failures', 'studytime', 'Medu', 'Fedu', 'sch...    ['G1', 'G2']  15.15   \n",
       "21  ['failures', 'studytime', 'Medu', 'Fedu', 'sch...    ['G1', 'G2']   7.60   \n",
       "22                                       ['G1', 'G2']              G3   5.04   \n",
       "23                                       ['G1', 'G2']              G3   1.79   \n",
       "24  ['failures', 'studytime', 'Medu', 'Fedu', 'sch...              G1  13.80   \n",
       "25  ['failures', 'studytime', 'Medu', 'Fedu', 'sch...              G1   7.31   \n",
       "26  ['failures', 'studytime', 'Medu', 'Fedu', 'sch...              G2  14.34   \n",
       "27  ['failures', 'studytime', 'Medu', 'Fedu', 'sch...              G2   7.59   \n",
       "28                                       ['G1', 'G2']              G3   4.76   \n",
       "29                                       ['G1', 'G2']              G3   2.10   \n",
       "30  ['failures', 'studytime', 'Medu', 'Fedu', 'sch...              G1  12.12   \n",
       "31  ['failures', 'studytime', 'Medu', 'Fedu', 'sch...              G1   7.32   \n",
       "32  ['failures', 'studytime', 'Medu', 'Fedu', 'sch...              G2  13.25   \n",
       "33  ['failures', 'studytime', 'Medu', 'Fedu', 'sch...              G2   7.55   \n",
       "34                                       ['G1', 'G2']              G3   5.39   \n",
       "35                                       ['G1', 'G2']              G3   1.90   \n",
       "\n",
       "      r2  \n",
       "0   0.08  \n",
       "1   0.17  \n",
       "2   0.14  \n",
       "3   0.17  \n",
       "4   0.11  \n",
       "5   0.17  \n",
       "6   0.79  \n",
       "7   0.86  \n",
       "8      -  \n",
       "9      -  \n",
       "10     -  \n",
       "11     -  \n",
       "12     -  \n",
       "13     -  \n",
       "14     -  \n",
       "15     -  \n",
       "16     -  \n",
       "17     -  \n",
       "18     -  \n",
       "19     -  \n",
       "20     -  \n",
       "21     -  \n",
       "22     -  \n",
       "23     -  \n",
       "24     -  \n",
       "25     -  \n",
       "26     -  \n",
       "27     -  \n",
       "28     -  \n",
       "29     -  \n",
       "30     -  \n",
       "31     -  \n",
       "32     -  \n",
       "33     -  \n",
       "34     -  \n",
       "35     -  "
      ]
     },
     "metadata": {},
     "output_type": "display_data"
    },
    {
     "name": "stdout",
     "output_type": "stream",
     "text": [
      "\t\tImagem 3 - Tabela - Resultados e métricas dos Modelos treinados.\n"
     ]
    }
   ],
   "source": [
    "display(coefs)\n",
    "print(\"\\t\\tImagem 3 - Tabela - Resultados e métricas dos Modelos treinados.\")"
   ]
  }
 ],
 "metadata": {
  "kernelspec": {
   "display_name": "Python 3",
   "language": "python",
   "name": "python3"
  },
  "language_info": {
   "codemirror_mode": {
    "name": "ipython",
    "version": 3
   },
   "file_extension": ".py",
   "mimetype": "text/x-python",
   "name": "python",
   "nbconvert_exporter": "python",
   "pygments_lexer": "ipython3",
   "version": "3.9.7"
  }
 },
 "nbformat": 4,
 "nbformat_minor": 2
}
